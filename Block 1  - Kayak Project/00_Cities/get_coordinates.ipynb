{
 "cells": [
  {
   "cell_type": "code",
   "execution_count": 2,
   "metadata": {},
   "outputs": [],
   "source": [
    "import asyncio \n",
    "import requests\n",
    "import pandas as pd\n",
    "import json\n",
    "from urllib.parse import urlencode, urlunparse"
   ]
  },
  {
   "cell_type": "code",
   "execution_count": 1,
   "metadata": {},
   "outputs": [],
   "source": [
    "#Get the coordinates by city. Gorge du Verdon has been replaced by Castelanne and Ariege by Foix to get more precise data\n",
    "def get_coordinate(city,country):\n",
    "    url = 'https://nominatim.openstreetmap.org/search'\n",
    "    params = {\n",
    "        'city': city,\n",
    "        'country': country,\n",
    "        \"adresstype\": 'city',\n",
    "        'format': 'json'\n",
    "    }\n",
    "    r=requests.get(url=url,params=params)\n",
    "    lat = r.json()[0]['lat']\n",
    "    lon = r.json()[0]['lon']\n",
    "    if r.status_code == 200:\n",
    "        return {\n",
    "            'city' : city,\n",
    "            'lat' : lat,\n",
    "            'lon': lon\n",
    "            }\n",
    "    else:\n",
    "        return r.status_code"
   ]
  },
  {
   "cell_type": "code",
   "execution_count": 3,
   "metadata": {},
   "outputs": [],
   "source": [
    "#Open the txt files with the cities\n",
    "with open('cities.txt','r') as fichier:\n",
    "    cities = json.load(fichier)\n",
    "\n",
    "#Create a list of dictionnaries with the coordinates\n",
    "coordinates = []\n",
    "for city in cities:\n",
    "    r = get_coordinate(city,'France')\n",
    "    if r ==403:\n",
    "        print('Not authorized')\n",
    "        break\n",
    "    else:\n",
    "        coordinates.append(r)"
   ]
  },
  {
   "cell_type": "code",
   "execution_count": 4,
   "metadata": {},
   "outputs": [],
   "source": [
    "#Create the dataframe\n",
    "df = pd.DataFrame(coordinates)"
   ]
  },
  {
   "cell_type": "code",
   "execution_count": 5,
   "metadata": {},
   "outputs": [],
   "source": [
    "df['code_insee'] = ''\n",
    "\n",
    "#Get the insee code for each city from the API based on the GPS localisation\n",
    "for city in df['city'].unique():\n",
    "    url = 'https://geo.api.gouv.fr/communes?'\n",
    "    params = {\n",
    "        'lat' : df[df['city'] == city]['lat'].iloc[0],\n",
    "        'lon': df[df['city'] == city]['lon'].iloc[0]\n",
    "    }\n",
    "\n",
    "    r = requests.get(url=url,params=params)\n",
    "    code_insee = r.json()[0]['code']\n",
    "    df.loc[df['city']==city,'code_insee']=code_insee\n"
   ]
  },
  {
   "cell_type": "code",
   "execution_count": 6,
   "metadata": {},
   "outputs": [],
   "source": [
    "#Save it\n",
    "df.to_csv('coordinates.csv',header=True ,index=False)"
   ]
  }
 ],
 "metadata": {
  "kernelspec": {
   "display_name": "base",
   "language": "python",
   "name": "python3"
  },
  "language_info": {
   "codemirror_mode": {
    "name": "ipython",
    "version": 3
   },
   "file_extension": ".py",
   "mimetype": "text/x-python",
   "name": "python",
   "nbconvert_exporter": "python",
   "pygments_lexer": "ipython3",
   "version": "3.12.4"
  }
 },
 "nbformat": 4,
 "nbformat_minor": 2
}
