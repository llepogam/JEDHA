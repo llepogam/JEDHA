{
 "cells": [
  {
   "cell_type": "code",
   "execution_count": 1,
   "metadata": {},
   "outputs": [
    {
     "name": "stdout",
     "output_type": "stream",
     "text": [
      "Collecting psycopg2-binary\n",
      "  Downloading psycopg2_binary-2.9.10-cp312-cp312-win_amd64.whl.metadata (5.0 kB)\n",
      "Downloading psycopg2_binary-2.9.10-cp312-cp312-win_amd64.whl (1.2 MB)\n",
      "   ---------------------------------------- 0.0/1.2 MB ? eta -:--:--\n",
      "   ---------------------------------------- 0.0/1.2 MB ? eta -:--:--\n",
      "   ---------------------------------------- 0.0/1.2 MB ? eta -:--:--\n",
      "   -- ------------------------------------- 0.1/1.2 MB 563.7 kB/s eta 0:00:02\n",
      "   ---- ----------------------------------- 0.1/1.2 MB 853.3 kB/s eta 0:00:02\n",
      "   ----- ---------------------------------- 0.2/1.2 MB 871.5 kB/s eta 0:00:02\n",
      "   -------- ------------------------------- 0.2/1.2 MB 846.9 kB/s eta 0:00:02\n",
      "   --------- ------------------------------ 0.3/1.2 MB 896.4 kB/s eta 0:00:01\n",
      "   --------- ------------------------------ 0.3/1.2 MB 896.4 kB/s eta 0:00:01\n",
      "   ---------- ----------------------------- 0.3/1.2 MB 731.4 kB/s eta 0:00:02\n",
      "   ----------- ---------------------------- 0.3/1.2 MB 723.4 kB/s eta 0:00:02\n",
      "   ------------ --------------------------- 0.4/1.2 MB 696.3 kB/s eta 0:00:02\n",
      "   ------------ --------------------------- 0.4/1.2 MB 675.0 kB/s eta 0:00:02\n",
      "   ------------- -------------------------- 0.4/1.2 MB 622.1 kB/s eta 0:00:02\n",
      "   ------------- -------------------------- 0.4/1.2 MB 607.1 kB/s eta 0:00:02\n",
      "   ------------- -------------------------- 0.4/1.2 MB 607.1 kB/s eta 0:00:02\n",
      "   ------------- -------------------------- 0.4/1.2 MB 607.1 kB/s eta 0:00:02\n",
      "   -------------- ------------------------- 0.4/1.2 MB 521.4 kB/s eta 0:00:02\n",
      "   -------------- ------------------------- 0.4/1.2 MB 521.4 kB/s eta 0:00:02\n",
      "   -------------- ------------------------- 0.4/1.2 MB 488.8 kB/s eta 0:00:02\n",
      "   --------------- ------------------------ 0.5/1.2 MB 486.0 kB/s eta 0:00:02\n",
      "   --------------- ------------------------ 0.5/1.2 MB 457.9 kB/s eta 0:00:02\n",
      "   ---------------- ----------------------- 0.5/1.2 MB 456.9 kB/s eta 0:00:02\n",
      "   ---------------- ----------------------- 0.5/1.2 MB 439.9 kB/s eta 0:00:02\n",
      "   ----------------- ---------------------- 0.5/1.2 MB 439.8 kB/s eta 0:00:02\n",
      "   ------------------ --------------------- 0.5/1.2 MB 439.6 kB/s eta 0:00:02\n",
      "   ------------------ --------------------- 0.5/1.2 MB 426.0 kB/s eta 0:00:02\n",
      "   ------------------ --------------------- 0.5/1.2 MB 426.0 kB/s eta 0:00:02\n",
      "   ------------------- -------------------- 0.6/1.2 MB 414.4 kB/s eta 0:00:02\n",
      "   ------------------- -------------------- 0.6/1.2 MB 414.4 kB/s eta 0:00:02\n",
      "   -------------------- ------------------- 0.6/1.2 MB 415.1 kB/s eta 0:00:02\n",
      "   --------------------- ------------------ 0.6/1.2 MB 414.0 kB/s eta 0:00:02\n",
      "   --------------------- ------------------ 0.6/1.2 MB 414.0 kB/s eta 0:00:02\n",
      "   ---------------------- ----------------- 0.6/1.2 MB 406.2 kB/s eta 0:00:02\n",
      "   ---------------------- ----------------- 0.7/1.2 MB 397.0 kB/s eta 0:00:02\n",
      "   ----------------------- ---------------- 0.7/1.2 MB 398.1 kB/s eta 0:00:02\n",
      "   ----------------------- ---------------- 0.7/1.2 MB 399.1 kB/s eta 0:00:02\n",
      "   ------------------------ --------------- 0.7/1.2 MB 394.3 kB/s eta 0:00:02\n",
      "   ------------------------ --------------- 0.7/1.2 MB 392.1 kB/s eta 0:00:02\n",
      "   ------------------------- -------------- 0.7/1.2 MB 391.1 kB/s eta 0:00:02\n",
      "   -------------------------- ------------- 0.8/1.2 MB 392.2 kB/s eta 0:00:02\n",
      "   -------------------------- ------------- 0.8/1.2 MB 393.2 kB/s eta 0:00:01\n",
      "   --------------------------- ------------ 0.8/1.2 MB 383.2 kB/s eta 0:00:01\n",
      "   --------------------------- ------------ 0.8/1.2 MB 384.4 kB/s eta 0:00:01\n",
      "   --------------------------- ------------ 0.8/1.2 MB 384.4 kB/s eta 0:00:01\n",
      "   ---------------------------- ----------- 0.8/1.2 MB 375.2 kB/s eta 0:00:01\n",
      "   ---------------------------- ----------- 0.8/1.2 MB 376.5 kB/s eta 0:00:01\n",
      "   ----------------------------- ---------- 0.9/1.2 MB 377.1 kB/s eta 0:00:01\n",
      "   ----------------------------- ---------- 0.9/1.2 MB 377.1 kB/s eta 0:00:01\n",
      "   ------------------------------ --------- 0.9/1.2 MB 375.1 kB/s eta 0:00:01\n",
      "   ------------------------------- -------- 0.9/1.2 MB 378.8 kB/s eta 0:00:01\n",
      "   ------------------------------- -------- 0.9/1.2 MB 378.8 kB/s eta 0:00:01\n",
      "   -------------------------------- ------- 0.9/1.2 MB 377.4 kB/s eta 0:00:01\n",
      "   --------------------------------- ------ 1.0/1.2 MB 377.9 kB/s eta 0:00:01\n",
      "   --------------------------------- ------ 1.0/1.2 MB 375.0 kB/s eta 0:00:01\n",
      "   --------------------------------- ------ 1.0/1.2 MB 375.0 kB/s eta 0:00:01\n",
      "   ---------------------------------- ----- 1.0/1.2 MB 370.1 kB/s eta 0:00:01\n",
      "   ---------------------------------- ----- 1.0/1.2 MB 369.1 kB/s eta 0:00:01\n",
      "   ----------------------------------- ---- 1.0/1.2 MB 370.2 kB/s eta 0:00:01\n",
      "   ----------------------------------- ---- 1.0/1.2 MB 367.7 kB/s eta 0:00:01\n",
      "   ------------------------------------ --- 1.1/1.2 MB 368.9 kB/s eta 0:00:01\n",
      "   ------------------------------------ --- 1.1/1.2 MB 368.9 kB/s eta 0:00:01\n",
      "   ------------------------------------ --- 1.1/1.2 MB 358.7 kB/s eta 0:00:01\n",
      "   ------------------------------------- -- 1.1/1.2 MB 359.9 kB/s eta 0:00:01\n",
      "   -------------------------------------- - 1.1/1.2 MB 361.1 kB/s eta 0:00:01\n",
      "   -------------------------------------- - 1.1/1.2 MB 359.0 kB/s eta 0:00:01\n",
      "   ---------------------------------------  1.2/1.2 MB 359.7 kB/s eta 0:00:01\n",
      "   ---------------------------------------- 1.2/1.2 MB 360.2 kB/s eta 0:00:00\n",
      "Installing collected packages: psycopg2-binary\n",
      "Successfully installed psycopg2-binary-2.9.10\n"
     ]
    },
    {
     "name": "stderr",
     "output_type": "stream",
     "text": [
      "WARNING: Skipping C:\\Users\\Utilisateur\\anaconda3\\Lib\\site-packages\\aext_assistant-4.0.15.dist-info due to invalid metadata entry 'name'\n",
      "WARNING: Skipping C:\\Users\\Utilisateur\\anaconda3\\Lib\\site-packages\\aext_assistant-4.0.15.dist-info due to invalid metadata entry 'name'\n",
      "WARNING: Skipping C:\\Users\\Utilisateur\\anaconda3\\Lib\\site-packages\\aext_assistant-4.0.15.dist-info due to invalid metadata entry 'name'\n",
      "WARNING: Skipping C:\\Users\\Utilisateur\\anaconda3\\Lib\\site-packages\\aext_assistant-4.0.15.dist-info due to invalid metadata entry 'name'\n",
      "WARNING: Skipping C:\\Users\\Utilisateur\\anaconda3\\Lib\\site-packages\\aext_assistant-4.0.15.dist-info due to invalid metadata entry 'name'\n",
      "WARNING: Skipping C:\\Users\\Utilisateur\\anaconda3\\Lib\\site-packages\\aext_assistant-4.0.15.dist-info due to invalid metadata entry 'name'\n",
      "WARNING: Skipping C:\\Users\\Utilisateur\\anaconda3\\Lib\\site-packages\\aext_assistant-4.0.15.dist-info due to invalid metadata entry 'name'\n"
     ]
    }
   ],
   "source": [
    "!pip install psycopg2-binary\n"
   ]
  },
  {
   "cell_type": "code",
   "execution_count": null,
   "metadata": {},
   "outputs": [],
   "source": [
    "#Let's initiate the database information\n",
    "#removed for git push"
   ]
  },
  {
   "cell_type": "code",
   "execution_count": null,
   "metadata": {},
   "outputs": [],
   "source": [
    "#Create the engine in sqlalchemy\n",
    "from sqlalchemy import create_engine, text\n",
    "\n",
    "# Replace YOUR_USERNAME, YOUR_PASSWORD and YOUR_HOSTNAME\n",
    "# by your credentials\n",
    "engine = create_engine(\n",
    "    f\"postgresql+psycopg2://{username}:{password}@{hostname}:{port}/{database}\",\n",
    "    echo=True\n",
    ")"
   ]
  },
  {
   "cell_type": "code",
   "execution_count": null,
   "metadata": {},
   "outputs": [
    {
     "name": "stdout",
     "output_type": "stream",
     "text": [
      "2025-08-09 15:21:08,445 INFO sqlalchemy.engine.Engine BEGIN (implicit)\n",
      "2025-08-09 15:21:08,462 INFO sqlalchemy.engine.Engine SELECT pg_catalog.pg_class.relname \n",
      "FROM pg_catalog.pg_class JOIN pg_catalog.pg_namespace ON pg_catalog.pg_namespace.oid = pg_catalog.pg_class.relnamespace \n",
      "WHERE pg_catalog.pg_class.relname = %(table_name)s AND pg_catalog.pg_class.relkind = ANY (ARRAY[%(param_1)s, %(param_2)s, %(param_3)s, %(param_4)s, %(param_5)s]) AND pg_catalog.pg_table_is_visible(pg_catalog.pg_class.oid) AND pg_catalog.pg_namespace.nspname != %(nspname_1)s\n",
      "2025-08-09 15:21:08,462 INFO sqlalchemy.engine.Engine [cached since 322s ago] {'table_name': 'weather_aggregated', 'param_1': 'r', 'param_2': 'p', 'param_3': 'f', 'param_4': 'v', 'param_5': 'm', 'nspname_1': 'pg_catalog'}\n",
      "2025-08-09 15:21:08,513 INFO sqlalchemy.engine.Engine \n",
      "CREATE TABLE weather_aggregated (\n",
      "\tcity TEXT, \n",
      "\ttotal_day_sum BIGINT, \n",
      "\trainy_day_sum BIGINT, \n",
      "\tcold_day_sum BIGINT, \n",
      "\thot_day_sum BIGINT, \n",
      "\twindy_day_sum BIGINT, \n",
      "\trr10_mean FLOAT(53), \n",
      "\trr1_mean FLOAT(53), \n",
      "\ttmin_mean FLOAT(53), \n",
      "\ttmax_mean FLOAT(53), \n",
      "\twind10m_mean FLOAT(53), \n",
      "\tgust10m_mean FLOAT(53), \n",
      "\tid BIGINT\n",
      ")\n",
      "\n",
      "\n",
      "2025-08-09 15:21:08,514 INFO sqlalchemy.engine.Engine [no key 0.00127s] {}\n",
      "2025-08-09 15:21:08,536 INFO sqlalchemy.engine.Engine INSERT INTO weather_aggregated (city, total_day_sum, rainy_day_sum, cold_day_sum, hot_day_sum, windy_day_sum, rr10_mean, rr1_mean, tmin_mean, tmax_mean, wind10m_mean, gust10m_mean, id) VALUES (%(city__0)s, %(total_day_sum__0)s, %(rainy_day_sum__0)s,  ... 8775 characters truncated ... _34)s, %(tmin_mean__34)s, %(tmax_mean__34)s, %(wind10m_mean__34)s, %(gust10m_mean__34)s, %(id__34)s)\n",
      "2025-08-09 15:21:08,545 INFO sqlalchemy.engine.Engine [generated in 0.00086s (insertmanyvalues) 1/1 (unordered)] {'rainy_day_sum__0': 0, 'cold_day_sum__0': 0, 'rr10_mean__0': 0.0, 'windy_day_sum__0': 0, 'tmax_mean__0': 27.428571428571427, 'hot_day_sum__0': 0, 'city__0': 'Cassis', 'id__0': 1, 'total_day_sum__0': 0, 'tmin_mean__0': 21.857142857142858, 'gust10m_mean__0': 25.571428571428573, 'rr1_mean__0': 0.0, 'wind10m_mean__0': 12.857142857142858, 'rainy_day_sum__1': 0, 'cold_day_sum__1': 0, 'rr10_mean__1': 0.0, 'windy_day_sum__1': 0, 'tmax_mean__1': 27.0, 'hot_day_sum__1': 0, 'city__1': 'Marseille', 'id__1': 2, 'total_day_sum__1': 0, 'tmin_mean__1': 21.714285714285715, 'gust10m_mean__1': 26.428571428571427, 'rr1_mean__1': 0.0, 'wind10m_mean__1': 13.571428571428571, 'rainy_day_sum__2': 0, 'cold_day_sum__2': 0, 'rr10_mean__2': 0.1285714285714286, 'windy_day_sum__2': 0, 'tmax_mean__2': 27.142857142857142, 'hot_day_sum__2': 0, 'city__2': 'Saintes Maries de la mer', 'id__2': 3, 'total_day_sum__2': 0, 'tmin_mean__2': 20.285714285714285, 'gust10m_mean__2': 32.57142857142857, 'rr1_mean__2': 0.4857142857142857, 'wind10m_mean__2': 15.714285714285714, 'rainy_day_sum__3': 0, 'cold_day_sum__3': 0, 'rr10_mean__3': 0.3428571428571428, 'windy_day_sum__3': 0, 'tmax_mean__3': 27.285714285714285, 'hot_day_sum__3': 0, 'city__3': 'Aigues Mortes', 'id__3': 4, 'total_day_sum__3': 0, 'tmin_mean__3': 20.142857142857142, 'gust10m_mean__3': 28.428571428571427 ... 355 parameters truncated ... 'rr10_mean__31': 2.557142857142857, 'windy_day_sum__31': 0, 'tmax_mean__31': 28.857142857142858, 'hot_day_sum__31': 5, 'city__31': 'Toulouse', 'id__31': 32, 'total_day_sum__31': 6, 'tmin_mean__31': 16.571428571428573, 'gust10m_mean__31': 26.285714285714285, 'rr1_mean__31': 4.814285714285715, 'wind10m_mean__31': 11.428571428571429, 'rainy_day_sum__32': 2, 'cold_day_sum__32': 6, 'rr10_mean__32': 2.742857142857143, 'windy_day_sum__32': 1, 'tmax_mean__32': 21.428571428571427, 'hot_day_sum__32': 0, 'city__32': 'St Malo', 'id__32': 33, 'total_day_sum__32': 6, 'tmin_mean__32': 14.428571428571429, 'gust10m_mean__32': 30.285714285714285, 'rr1_mean__32': 4.1, 'wind10m_mean__32': 15.714285714285714, 'rainy_day_sum__33': 2, 'cold_day_sum__33': 7, 'rr10_mean__33': 1.4857142857142858, 'windy_day_sum__33': 1, 'tmax_mean__33': 20.571428571428573, 'hot_day_sum__33': 0, 'city__33': 'Le Havre', 'id__33': 34, 'total_day_sum__33': 7, 'tmin_mean__33': 15.285714285714286, 'gust10m_mean__33': 30.285714285714285, 'rr1_mean__33': 2.642857142857143, 'wind10m_mean__33': 15.714285714285714, 'rainy_day_sum__34': 2, 'cold_day_sum__34': 7, 'rr10_mean__34': 1.9, 'windy_day_sum__34': 1, 'tmax_mean__34': 20.714285714285715, 'hot_day_sum__34': 0, 'city__34': 'Bayeux', 'id__34': 35, 'total_day_sum__34': 7, 'tmin_mean__34': 14.0, 'gust10m_mean__34': 29.142857142857142, 'rr1_mean__34': 3.185714285714286, 'wind10m_mean__34': 15.0}\n",
      "2025-08-09 15:21:08,562 INFO sqlalchemy.engine.Engine COMMIT\n",
      "Import terminé avec succès !\n"
     ]
    }
   ],
   "source": [
    "#Let's upload the db in the RDS instance\n",
    "import pandas as pd\n",
    "from sqlalchemy import create_engine\n",
    "\n",
    "csv_path = r'C:/Users/Utilisateur/Documents/JEDHA/03_Data_Collection_and_Management/04_Kayak_Project/00_Cities/weather_aggregated.csv'\n",
    "df = pd.read_csv(csv_path)\n",
    "\n",
    "\n",
    "df.to_sql('weather_aggregated', con=engine, if_exists='replace', index=False)\n",
    "\n",
    "print(\"Import terminé avec succès !\")\n"
   ]
  },
  {
   "cell_type": "code",
   "execution_count": 25,
   "metadata": {},
   "outputs": [
    {
     "name": "stdout",
     "output_type": "stream",
     "text": [
      "2025-08-09 15:26:05,103 INFO sqlalchemy.engine.Engine BEGIN (implicit)\n",
      "2025-08-09 15:26:05,103 INFO sqlalchemy.engine.Engine SELECT COUNT(*) FROM weather_aggregated\n",
      "2025-08-09 15:26:05,109 INFO sqlalchemy.engine.Engine [cached since 168.6s ago] {}\n",
      "Number of lines in weather_aggregated : 35\n",
      "2025-08-09 15:26:05,147 INFO sqlalchemy.engine.Engine SELECT * FROM weather_aggregated LIMIT 5\n",
      "2025-08-09 15:26:05,147 INFO sqlalchemy.engine.Engine [cached since 168.6s ago] {}\n",
      "First 5 lines :\n",
      "('Cassis', 0, 0, 0, 0, 0, 0.0, 0.0, 21.857142857142858, 27.428571428571427, 12.857142857142858, 25.571428571428573, 1)\n",
      "('Marseille', 0, 0, 0, 0, 0, 0.0, 0.0, 21.714285714285715, 27.0, 13.571428571428571, 26.428571428571427, 2)\n",
      "('Saintes Maries de la mer', 0, 0, 0, 0, 0, 0.1285714285714286, 0.4857142857142857, 20.285714285714285, 27.142857142857142, 15.714285714285714, 32.57142857142857, 3)\n",
      "('Aigues Mortes', 0, 0, 0, 0, 0, 0.3428571428571428, 0.8142857142857143, 20.142857142857142, 27.285714285714285, 13.571428571428571, 28.428571428571427, 4)\n",
      "('Bormes les Mimosas', 1, 1, 0, 0, 0, 0.0857142857142857, 0.8571428571428571, 22.714285714285715, 27.0, 10.714285714285714, 22.571428571428573, 5)\n",
      "2025-08-09 15:26:05,165 INFO sqlalchemy.engine.Engine ROLLBACK\n"
     ]
    }
   ],
   "source": [
    "#Let's test some sql querry to test it\n",
    "with engine.connect() as conn:\n",
    "    # 1. Count lines\n",
    "    result = conn.execute(text(\"SELECT COUNT(*) FROM weather_aggregated\"))\n",
    "    count = result.scalar()\n",
    "    print(f\"Number of lines in weather_aggregated : {count}\")\n",
    "\n",
    "    # 2. Show first 5 lines\n",
    "    result = conn.execute(text(\"SELECT * FROM weather_aggregated LIMIT 5\"))\n",
    "    rows = result.fetchall()\n",
    "    print(\"First 5 lines :\")\n",
    "    for row in rows:\n",
    "        print(row)"
   ]
  },
  {
   "cell_type": "code",
   "execution_count": null,
   "metadata": {},
   "outputs": [
    {
     "name": "stdout",
     "output_type": "stream",
     "text": [
      "2025-08-09 15:53:42,595 INFO sqlalchemy.engine.Engine select pg_catalog.version()\n",
      "2025-08-09 15:53:42,595 INFO sqlalchemy.engine.Engine [raw sql] {}\n",
      "2025-08-09 15:53:42,653 INFO sqlalchemy.engine.Engine select current_schema()\n",
      "2025-08-09 15:53:42,655 INFO sqlalchemy.engine.Engine [raw sql] {}\n",
      "2025-08-09 15:53:42,683 INFO sqlalchemy.engine.Engine show standard_conforming_strings\n",
      "2025-08-09 15:53:42,683 INFO sqlalchemy.engine.Engine [raw sql] {}\n",
      "2025-08-09 15:53:42,721 INFO sqlalchemy.engine.Engine BEGIN (implicit)\n",
      "2025-08-09 15:53:42,843 INFO sqlalchemy.engine.Engine SELECT pg_catalog.pg_class.relname \n",
      "FROM pg_catalog.pg_class JOIN pg_catalog.pg_namespace ON pg_catalog.pg_namespace.oid = pg_catalog.pg_class.relnamespace \n",
      "WHERE pg_catalog.pg_class.relname = %(table_name)s AND pg_catalog.pg_class.relkind = ANY (ARRAY[%(param_1)s, %(param_2)s, %(param_3)s, %(param_4)s, %(param_5)s]) AND pg_catalog.pg_table_is_visible(pg_catalog.pg_class.oid) AND pg_catalog.pg_namespace.nspname != %(nspname_1)s\n",
      "2025-08-09 15:53:42,843 INFO sqlalchemy.engine.Engine [generated in 0.00440s] {'table_name': 'booking', 'param_1': 'r', 'param_2': 'p', 'param_3': 'f', 'param_4': 'v', 'param_5': 'm', 'nspname_1': 'pg_catalog'}\n",
      "2025-08-09 15:53:42,899 INFO sqlalchemy.engine.Engine \n",
      "CREATE TABLE booking (\n",
      "\tcity TEXT, \n",
      "\tname TEXT, \n",
      "\trank TEXT, \n",
      "\tnumber_ranking TEXT, \n",
      "\tcheckin TEXT, \n",
      "\tcheckout TEXT, \n",
      "\tprice TEXT, \n",
      "\tdistance TEXT, \n",
      "\tadress TEXT, \n",
      "\tlat FLOAT(53), \n",
      "\tlon FLOAT(53), \n",
      "\tdescription TEXT, \n",
      "\turl TEXT\n",
      ")\n",
      "\n",
      "\n",
      "2025-08-09 15:53:42,915 INFO sqlalchemy.engine.Engine [no key 0.01558s] {}\n",
      "2025-08-09 15:53:43,009 INFO sqlalchemy.engine.Engine INSERT INTO booking (city, name, rank, number_ranking, checkin, checkout, price, distance, adress, lat, lon, description, url) VALUES (%(city__0)s, %(name__0)s, %(rank__0)s, %(number_ranking__0)s, %(checkin__0)s, %(checkout__0)s, %(price__0)s, %(dist ... 122102 characters truncated ...  %(distance__549)s, %(adress__549)s, %(lat__549)s, %(lon__549)s, %(description__549)s, %(url__549)s)\n",
      "2025-08-09 15:53:43,009 INFO sqlalchemy.engine.Engine [generated in 0.01695s (insertmanyvalues) 1/1 (unordered)] {'checkout__0': '2024-08-28', 'number_ranking__0': '242', 'lon__0': 5.53687444, 'adress__0': '4 Place Mirabeau, 13260 Cassis, France', 'price__0': '235', 'city__0': 'Cassis', 'distance__0': '300\\xa0m du centre', 'description__0': \"Situé à Cassis, à 2,6 km du cap Canaille en bord de mer, le Mirabeau propose une connexion Wi-Fi gratuite.\\n\\nToutes les chambres de cette maison d'h ... (785 characters truncated) ... ulations effectuées pendant la période d'annulation gratuite indiquée dans les conditions, le prépaiement sera remboursé 30 jours après l'annulation.\", 'lat__0': 43.21497073, 'rank__0': '8,2', 'name__0': 'Cassis Loc - Chambre Meublée', 'url__0': 'https://www.booking.com/hotel/fr/mirabeau-cassis.fr.html?aid=304142&label=gen173nr-1FCAQoggJCDXNlYXJjaF9jYXNzaXNIDVgEaE2IAQGYAQ24ARnIARXYAQHoAQH4AQOI ... (332 characters truncated) ... ighted_blocks=206585601_384274031_2_0_0&matching_block_id=206585601_384274031_2_0_0&sr_pri_blocks=206585601_384274031_2_0_0__23506&from=searchresults', 'checkin__0': '2024-08-27', 'checkout__1': '2024-08-26', 'number_ranking__1': '1', 'lon__1': 5.5433849, 'adress__1': 'Avenue Auguste Favier, 13260 Cassis, France', 'price__1': '141', 'city__1': 'Cassis', 'distance__1': '0,9\\xa0km du centre', 'description__1': 'Situé dans un jardin de style méditerranéen doté d’une piscine extérieure chauffée et pourvu d’un espace détente avec un jacuzzi et un sauna, l’hôtel ... (740 characters truncated) ... est présent sur place.\\n\\nLa gare de Cassis est implantée à moins de 2 km. Enfin, cet hôtel est placé à 35 minutes en voiture du circuit Paul-Ricard.', 'lat__1': 43.22184049, 'rank__1': '8,1', 'name__1': 'Les Jardins de Cassis', 'url__1': 'https://www.booking.com/hotel/fr/les-jardins-de-cassis.fr.html?aid=304142&label=gen173nr-1FCAQoggJCDXNlYXJjaF9jYXNzaXNIDVgEaE2IAQGYAQ24ARnIARXYAQHoAQ ... (363 characters truncated) ... 8212_0_2_0&matching_block_id=30119601_309338212_0_2_0&sr_pri_blocks=30119601_309338212_0_2_0__14140&from_sustainable_property_sr=1&from=searchresults', 'checkin__1': '2024-08-25', 'checkout__2': '2024-08-26', 'number_ranking__2': '2', 'lon__2': 5.541374, 'adress__2': '11 Impasse des Grillons, 13260 Cassis, France', 'price__2': '410', 'city__2': 'Cassis', 'distance__2': '0,9\\xa0km du centre', 'description__2': \"Situé à Cassis, le T3 luxe vue mer propose un hébergement climatisé avec une piscine privée. Vous pourrez profiter d'une terrasse et d'un parking pri ... (312 characters truncated) ... roximité de la Grande Mer, du Bestouan et de la plage de l'Anse de Corton. L'aéroport le plus proche, celui de Marseille Provence, est situé à 45 km.\", 'lat__2': 43.2207749, 'rank__2': '9,5', 'name__2': 'T3 luxe vue mer', 'url__2': 'https://www.booking.com/hotel/fr/t3-luxe-vue-mer.fr.html?aid=304142&label=gen173nr-1FCAQoggJCDXNlYXJjaF9jYXNzaXNIDVgEaE2IAQGYAQ24ARnIARXYAQHoAQH4AQOI ... (336 characters truncated) ... ted_blocks=1162154601_388891752_4_0_0&matching_block_id=1162154601_388891752_4_0_0&sr_pri_blocks=1162154601_388891752_4_0_0__40993&from=searchresults', 'checkin__2': '2024-08-25', 'checkout__3': '2024-08-26', 'number_ranking__3': '11', 'lon__3': 5.376624, 'adress__3': '25 Avenue du General Leclerc, Belle de Mai - Saint-Lazare, 13003 Marseille, France', 'price__3': '120', 'city__3': 'Marseille', 'distance__3': '0,8\\xa0km du centre', 'description__3': \"Situé à Marseille, à seulement 5\\xa0minutes à pied de la gare de Marseille Saint-Charles, le Toyoko INN Marseille Saint Charles dispose d’un jardin e ... (552 characters truncated) ... et à 20\\xa0minutes à pied du centre commercial Les Terrasses du Port. L’aéroport Marseille-Provence, le plus proche, se situe quant à lui à 20\\xa0km.\", 'lat__3': 43.304229, 'rank__3': '7,8', 'name__3': 'Toyoko INN Marseille Saint Charles' ... 7050 parameters truncated ... 'lon__546': 4.41156596, 'adress__546': \"Route D' Arles D570, 13460 Les Saintes-Maries-de-la-Mer, France\", 'price__546': '133', 'city__546': 'Saintes Maries de la mer', 'distance__546': '150\\xa0m du centre', 'description__546': \"Doté d'une piscine extérieure ouverte en saison et d'une terrasse bien exposée, l’établissement L'auberge Camarguaise est situé à 2\\xa0km des Saintes ... (749 characters truncated) ... nal de Camargue est situé à 2\\xa0km de l'établissement.\\n\\nL’aéroport de Montpellier-Méditerranée, le plus proche, est à 50\\xa0km de l’établissement.\", 'lat__546': 43.47184235, 'rank__546': '8,7', 'name__546': \"L'auberge Camarguaise\", 'url__546': 'https://www.booking.com/hotel/fr/lauberge-camarguaise.fr.html?aid=304142&label=gen173nr-1FCAQoggJCH3NlYXJjaF9zYWludGVzIG1hcmllcyBkZSBsYSBtZXJIDVgEaE2 ... (382 characters truncated) ... 491756_2_2_0&matching_block_id=2976401_388491756_2_2_0&sr_pri_blocks=2976401_388491756_2_2_0__13274&from_sustainable_property_sr=1&from=searchresults', 'checkin__546': '2024-08-28', 'checkout__547': '2024-08-29', 'number_ranking__547': '412', 'lon__547': 4.42231894, 'adress__547': \"Route d'Arles, 13460 Les Saintes-Maries-de-la-Mer, France\", 'price__547': '195', 'city__547': 'Saintes Maries de la mer', 'distance__547': '150\\xa0m du centre', 'description__547': \"Situé aux Saintes-Marie-de-la-Mer, au cœur du parc naturel régional de Camargue, l’établissement Les Arnelles dispose d'une piscine extérieure, d'un  ... (804 characters truncated) ...  peut être visité à 3,5\\xa0km. Vous pourrez également découvrir le Grau Du Roi et Aigues Mortes à 35\\xa0km. La gare TGV d'Arles se trouve à 35\\xa0km.\", 'lat__547': 43.46095608, 'rank__547': '8,6', 'name__547': 'Hôtel Restaurant Les Arnelles', 'url__547': 'https://www.booking.com/hotel/fr/les-arnelles.fr.html?aid=304142&label=gen173nr-1FCAQoggJCH3NlYXJjaF9zYWludGVzIG1hcmllcyBkZSBsYSBtZXJIDVgEaE2IAQGYAQ2 ... (382 characters truncated) ... 3_0_42_0&matching_block_id=63027906_200185333_0_42_0&sr_pri_blocks=63027906_200185333_0_42_0__19500&from_sustainable_property_sr=1&from=searchresults', 'checkin__547': '2024-08-28', 'checkout__548': '2024-08-27', 'number_ranking__548': '711', 'lon__548': 4.19753909, 'adress__548': '939 Route De Nimes, 30220 Aigues-Mortes, France', 'price__548': '110', 'city__548': 'Aigues Mortes', 'distance__548': '100\\xa0m du centre', 'description__548': 'L\\'Hotel Des 4 Vents \"Esprit Camargue\" est situé à Aigues-Mortes, sur la côte méditerranéenne, à 40 km de Nîmes et à 35 km de Montpellier. Il propose ... (437 characters truncated) ... Vents \"Esprit Camargue\" possède une terrasse de jardin. Vous pourrez vous détendre au bar.\\n\\nUn parking privé est disponible gratuitement sur place.', 'lat__548': 43.57702546, 'rank__548': '8,5', 'name__548': 'Hotel Des 4 Vents \"Esprit Camargue\"', 'url__548': 'https://www.booking.com/hotel/fr/des-4-vents.fr.html?aid=304142&label=gen173nr-1FCAQoggJCFHNlYXJjaF9haWd1ZXMgbW9ydGVzSA1YBGhNiAEBmAENuAEZyAEV2AEB6AEB ... (365 characters truncated) ... 2272_2_2_0&matching_block_id=26165102_365782272_2_2_0&sr_pri_blocks=26165102_365782272_2_2_0__10960&from_sustainable_property_sr=1&from=searchresults', 'checkin__548': '2024-08-26', 'checkout__549': '2024-08-29', 'number_ranking__549': '325', 'lon__549': 4.42670293, 'adress__549': '13 chemin du Pont Blanc, 13460 Les Saintes-Maries-de-la-Mer, France', 'price__549': '140', 'city__549': 'Saintes Maries de la mer', 'distance__549': '150\\xa0m du centre', 'description__549': \"Situé à seulement 400 mètres de la plage de sable à Saintes-Maries-de-la-Mer, Le Maset en Camargue est un hôtel climatisé doté d’une piscine entourée ... (550 characters truncated) ... ent l'équitation et la randonnée à pied ou à vélo dans les environs. Arles se trouve à 35 km. Un parking privé est disponible gratuitement sur place.\", 'lat__549': 43.45656073, 'rank__549': '8,9', 'name__549': 'Le Maset en Camargue', 'url__549': 'https://www.booking.com/hotel/fr/mazet-de-la-grenouilla-re.fr.html?aid=304142&label=gen173nr-1FCAQoggJCH3NlYXJjaF9zYWludGVzIG1hcmllcyBkZSBsYSBtZXJIDV ... (360 characters truncated) ... ghlighted_blocks=38723905_360525461_0_2_0&matching_block_id=38723905_360525461_0_2_0&sr_pri_blocks=38723905_360525461_0_2_0__14040&from=searchresults', 'checkin__549': '2024-08-28'}\n",
      "2025-08-09 15:53:43,970 INFO sqlalchemy.engine.Engine COMMIT\n",
      "Import terminé avec succès !\n"
     ]
    }
   ],
   "source": [
    "#Let's upload the booking data now\n",
    "import pandas as pd\n",
    "from sqlalchemy import create_engine\n",
    "\n",
    "#Let's initiate the database information\n",
    "#removed for git push\n",
    "\n",
    "#Create the engine in sqlalchemy\n",
    "from sqlalchemy import create_engine, text\n",
    "\n",
    "# Replace YOUR_USERNAME, YOUR_PASSWORD and YOUR_HOSTNAME\n",
    "# by your credentials\n",
    "engine_booking = create_engine(\n",
    "    f\"postgresql+psycopg2://{username}:{password}@{hostname}:{port}/{database}\",\n",
    "    echo=True\n",
    ")\n",
    "\n",
    "\n",
    "\n",
    "df = pd.read_json('C:/Users/Utilisateur/Documents/JEDHA/03_Data_Collection_and_Management/04_Kayak_Project/00_Cities/booking.json')\n",
    "\n",
    "\n",
    "df.to_sql('booking', con=engine_booking, if_exists='replace', index=False)\n",
    "\n",
    "print(\"Import terminé avec succès !\")"
   ]
  },
  {
   "cell_type": "code",
   "execution_count": 28,
   "metadata": {},
   "outputs": [
    {
     "name": "stdout",
     "output_type": "stream",
     "text": [
      "2025-08-09 15:54:17,470 INFO sqlalchemy.engine.Engine BEGIN (implicit)\n",
      "2025-08-09 15:54:17,471 INFO sqlalchemy.engine.Engine SELECT COUNT(*) FROM booking\n",
      "2025-08-09 15:54:17,472 INFO sqlalchemy.engine.Engine [generated in 0.00429s] {}\n",
      "Number of lines in weather_aggregated : 550\n",
      "2025-08-09 15:54:17,531 INFO sqlalchemy.engine.Engine SELECT * FROM booking LIMIT 5\n",
      "2025-08-09 15:54:17,531 INFO sqlalchemy.engine.Engine [generated in 0.00117s] {}\n",
      "First 5 lines :\n",
      "('Cassis', 'Cassis Loc - Chambre Meublée', '8,2', '242', '2024-08-27', '2024-08-28', '235', '300\\xa0m du centre', '4 Place Mirabeau, 13260 Cassis, France', 43.21497073, 5.53687444, \"Situé à Cassis, à 2,6 km du cap Canaille en bord de mer, le Mirabeau propose une connexion Wi-Fi gratuite.\\n\\nToutes les chambres de cette maison d'h ... (785 characters truncated) ... ulations effectuées pendant la période d'annulation gratuite indiquée dans les conditions, le prépaiement sera remboursé 30 jours après l'annulation.\", 'https://www.booking.com/hotel/fr/mirabeau-cassis.fr.html?aid=304142&label=gen173nr-1FCAQoggJCDXNlYXJjaF9jYXNzaXNIDVgEaE2IAQGYAQ24ARnIARXYAQHoAQH4AQOI ... (332 characters truncated) ... ighted_blocks=206585601_384274031_2_0_0&matching_block_id=206585601_384274031_2_0_0&sr_pri_blocks=206585601_384274031_2_0_0__23506&from=searchresults')\n",
      "('Cassis', 'Les Jardins de Cassis', '8,1', '1', '2024-08-25', '2024-08-26', '141', '0,9\\xa0km du centre', 'Avenue Auguste Favier, 13260 Cassis, France', 43.22184049, 5.5433849, 'Situé dans un jardin de style méditerranéen doté d’une piscine extérieure chauffée et pourvu d’un espace détente avec un jacuzzi et un sauna, l’hôtel ... (740 characters truncated) ... est présent sur place.\\n\\nLa gare de Cassis est implantée à moins de 2 km. Enfin, cet hôtel est placé à 35 minutes en voiture du circuit Paul-Ricard.', 'https://www.booking.com/hotel/fr/les-jardins-de-cassis.fr.html?aid=304142&label=gen173nr-1FCAQoggJCDXNlYXJjaF9jYXNzaXNIDVgEaE2IAQGYAQ24ARnIARXYAQHoAQ ... (363 characters truncated) ... 8212_0_2_0&matching_block_id=30119601_309338212_0_2_0&sr_pri_blocks=30119601_309338212_0_2_0__14140&from_sustainable_property_sr=1&from=searchresults')\n",
      "('Cassis', 'T3 luxe vue mer', '9,5', '2', '2024-08-25', '2024-08-26', '410', '0,9\\xa0km du centre', '11 Impasse des Grillons, 13260 Cassis, France', 43.2207749, 5.541374, \"Situé à Cassis, le T3 luxe vue mer propose un hébergement climatisé avec une piscine privée. Vous pourrez profiter d'une terrasse et d'un parking pri ... (312 characters truncated) ... roximité de la Grande Mer, du Bestouan et de la plage de l'Anse de Corton. L'aéroport le plus proche, celui de Marseille Provence, est situé à 45 km.\", 'https://www.booking.com/hotel/fr/t3-luxe-vue-mer.fr.html?aid=304142&label=gen173nr-1FCAQoggJCDXNlYXJjaF9jYXNzaXNIDVgEaE2IAQGYAQ24ARnIARXYAQHoAQH4AQOI ... (336 characters truncated) ... ted_blocks=1162154601_388891752_4_0_0&matching_block_id=1162154601_388891752_4_0_0&sr_pri_blocks=1162154601_388891752_4_0_0__40993&from=searchresults')\n",
      "('Marseille', 'Toyoko INN Marseille Saint Charles', '7,8', '11', '2024-08-25', '2024-08-26', '120', '0,8\\xa0km du centre', '25 Avenue du General Leclerc, Belle de Mai - Saint-Lazare, 13003 Marseille, France', 43.304229, 5.376624, \"Situé à Marseille, à seulement 5\\xa0minutes à pied de la gare de Marseille Saint-Charles, le Toyoko INN Marseille Saint Charles dispose d’un jardin e ... (552 characters truncated) ... et à 20\\xa0minutes à pied du centre commercial Les Terrasses du Port. L’aéroport Marseille-Provence, le plus proche, se situe quant à lui à 20\\xa0km.\", 'https://www.booking.com/hotel/fr/toyoko-inn-marseille-saint-charles.fr.html?aid=304142&label=gen173nr-1FCAQoggJCEHNlYXJjaF9tYXJzZWlsbGVIDVgEaE2IAQGYA ... (384 characters truncated) ... 97_0_1_0&matching_block_id=334262706_135158997_0_1_0&sr_pri_blocks=334262706_135158997_0_1_0__12032&from_sustainable_property_sr=1&from=searchresults')\n",
      "('Cassis', 'Hôtel Les Roches Blanches Cassis', '8,8', '402', '2024-08-24', '2024-08-25', '1 766', '1,4\\xa0km du centre', '9 Avenue des Calanques, 13260 Cassis, France', 43.211337, 5.529502, \"Doté d'une connexion Wi-Fi gratuite, l'Hôtel Les Roches Blanches Cassis est situé à 1 km du centre de Cassis et à 6\\xa0km du cap Canaille. Cet établi ... (417 characters truncated) ... glais et français ; il se fera un plaisir de vous fournir des informations utiles lors de votre séjour. L'aéroport de Marseille-Provence est à 48 km.\", 'https://www.booking.com/hotel/fr/des-roches-blanches.fr.html?aid=304142&label=gen173nr-1FCAQoggJCDXNlYXJjaF9jYXNzaXNIDVgEaE2IAQGYAQ24ARnIARXYAQHoAQH4 ... (366 characters truncated) ... 9_2_1_0&matching_block_id=330404207_363622839_2_1_0&sr_pri_blocks=330404207_363622839_2_1_0__176550&from_sustainable_property_sr=1&from=searchresults')\n",
      "2025-08-09 15:54:17,610 INFO sqlalchemy.engine.Engine ROLLBACK\n"
     ]
    }
   ],
   "source": [
    "#Let's test some sql querry to test it\n",
    "with engine_booking.connect() as conn:\n",
    "    # 1. Count lines\n",
    "    result = conn.execute(text(\"SELECT COUNT(*) FROM booking\"))\n",
    "    count = result.scalar()\n",
    "    print(f\"Number of lines in weather_aggregated : {count}\")\n",
    "\n",
    "    # 2. Show first 5 lines\n",
    "    result = conn.execute(text(\"SELECT * FROM booking LIMIT 5\"))\n",
    "    rows = result.fetchall()\n",
    "    print(\"First 5 lines :\")\n",
    "    for row in rows:\n",
    "        print(row)"
   ]
  }
 ],
 "metadata": {
  "kernelspec": {
   "display_name": "base",
   "language": "python",
   "name": "python3"
  },
  "language_info": {
   "codemirror_mode": {
    "name": "ipython",
    "version": 3
   },
   "file_extension": ".py",
   "mimetype": "text/x-python",
   "name": "python",
   "nbconvert_exporter": "python",
   "pygments_lexer": "ipython3",
   "version": "3.12.4"
  }
 },
 "nbformat": 4,
 "nbformat_minor": 2
}
